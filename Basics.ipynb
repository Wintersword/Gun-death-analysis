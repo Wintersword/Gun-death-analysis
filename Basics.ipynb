{
 "cells": [
  {
   "cell_type": "code",
   "execution_count": 4,
   "metadata": {
    "collapsed": true
   },
   "outputs": [
    {
     "name": "stdout",
     "output_type": "stream",
     "text": [
      "[['', 'year', 'month', 'intent', 'police', 'sex', 'age', 'race', 'hispanic', 'place', 'education'], ['1', '2012', '01', 'Suicide', '0', 'M', '34', 'Asian/Pacific Islander', '100', 'Home', '4'], ['2', '2012', '01', 'Suicide', '0', 'F', '21', 'White', '100', 'Street', '3'], ['3', '2012', '01', 'Suicide', '0', 'M', '60', 'White', '100', 'Other specified', '4'], ['4', '2012', '02', 'Suicide', '0', 'M', '64', 'White', '100', 'Home', '4']]\n"
     ]
    }
   ],
   "source": [
    "import csv\n",
    "f = open('guns.csv')\n",
    "data = list(csv.reader(f))\n",
    "print(data[:5])\n",
    "f.close()"
   ]
  },
  {
   "cell_type": "code",
   "execution_count": 5,
   "metadata": {
    "collapsed": true
   },
   "outputs": [
    {
     "name": "stdout",
     "output_type": "stream",
     "text": [
      "[['1', '2012', '01', 'Suicide', '0', 'M', '34', 'Asian/Pacific Islander', '100', 'Home', '4'], ['2', '2012', '01', 'Suicide', '0', 'F', '21', 'White', '100', 'Street', '3'], ['3', '2012', '01', 'Suicide', '0', 'M', '60', 'White', '100', 'Other specified', '4'], ['4', '2012', '02', 'Suicide', '0', 'M', '64', 'White', '100', 'Home', '4'], ['5', '2012', '02', 'Suicide', '0', 'M', '31', 'White', '100', 'Other specified', '2']]\n"
     ]
    },
    {
     "data": {
      "text/plain": [
       "['',\n",
       " 'year',\n",
       " 'month',\n",
       " 'intent',\n",
       " 'police',\n",
       " 'sex',\n",
       " 'age',\n",
       " 'race',\n",
       " 'hispanic',\n",
       " 'place',\n",
       " 'education']"
      ]
     },
     "execution_count": 5,
     "metadata": {},
     "output_type": "execute_result"
    }
   ],
   "source": [
    "header = data[0]\n",
    "data = data[1:]\n",
    "print(data[:5])\n",
    "header"
   ]
  },
  {
   "cell_type": "code",
   "execution_count": 6,
   "metadata": {},
   "outputs": [
    {
     "data": {
      "text/plain": [
       "{2012: 33563, 2013: 33636, 2014: 33599}"
      ]
     },
     "execution_count": 6,
     "metadata": {},
     "output_type": "execute_result"
    }
   ],
   "source": [
    "years = [int(row[1]) for row in data]\n",
    "year_counts = {}\n",
    "for year in years:\n",
    "    if year in year_counts:\n",
    "        year_counts[year] += 1\n",
    "    else:\n",
    "        year_counts[year] = 1\n",
    "year_counts"
   ]
  },
  {
   "cell_type": "code",
   "execution_count": 7,
   "metadata": {
    "collapsed": true
   },
   "outputs": [
    {
     "data": {
      "text/plain": [
       "{datetime.datetime(2012, 1, 1, 0, 0): 2758,\n",
       " datetime.datetime(2012, 2, 1, 0, 0): 2357,\n",
       " datetime.datetime(2012, 3, 1, 0, 0): 2743,\n",
       " datetime.datetime(2012, 4, 1, 0, 0): 2795,\n",
       " datetime.datetime(2012, 5, 1, 0, 0): 2999,\n",
       " datetime.datetime(2012, 6, 1, 0, 0): 2826,\n",
       " datetime.datetime(2012, 7, 1, 0, 0): 3026,\n",
       " datetime.datetime(2012, 8, 1, 0, 0): 2954,\n",
       " datetime.datetime(2012, 9, 1, 0, 0): 2852,\n",
       " datetime.datetime(2012, 10, 1, 0, 0): 2733,\n",
       " datetime.datetime(2012, 11, 1, 0, 0): 2729,\n",
       " datetime.datetime(2012, 12, 1, 0, 0): 2791,\n",
       " datetime.datetime(2013, 1, 1, 0, 0): 2864,\n",
       " datetime.datetime(2013, 2, 1, 0, 0): 2375,\n",
       " datetime.datetime(2013, 3, 1, 0, 0): 2862,\n",
       " datetime.datetime(2013, 4, 1, 0, 0): 2798,\n",
       " datetime.datetime(2013, 5, 1, 0, 0): 2806,\n",
       " datetime.datetime(2013, 6, 1, 0, 0): 2920,\n",
       " datetime.datetime(2013, 7, 1, 0, 0): 3079,\n",
       " datetime.datetime(2013, 8, 1, 0, 0): 2859,\n",
       " datetime.datetime(2013, 9, 1, 0, 0): 2742,\n",
       " datetime.datetime(2013, 10, 1, 0, 0): 2808,\n",
       " datetime.datetime(2013, 11, 1, 0, 0): 2758,\n",
       " datetime.datetime(2013, 12, 1, 0, 0): 2765,\n",
       " datetime.datetime(2014, 1, 1, 0, 0): 2651,\n",
       " datetime.datetime(2014, 2, 1, 0, 0): 2361,\n",
       " datetime.datetime(2014, 3, 1, 0, 0): 2684,\n",
       " datetime.datetime(2014, 4, 1, 0, 0): 2862,\n",
       " datetime.datetime(2014, 5, 1, 0, 0): 2864,\n",
       " datetime.datetime(2014, 6, 1, 0, 0): 2931,\n",
       " datetime.datetime(2014, 7, 1, 0, 0): 2884,\n",
       " datetime.datetime(2014, 8, 1, 0, 0): 2970,\n",
       " datetime.datetime(2014, 9, 1, 0, 0): 2914,\n",
       " datetime.datetime(2014, 10, 1, 0, 0): 2865,\n",
       " datetime.datetime(2014, 11, 1, 0, 0): 2756,\n",
       " datetime.datetime(2014, 12, 1, 0, 0): 2857}"
      ]
     },
     "execution_count": 7,
     "metadata": {},
     "output_type": "execute_result"
    }
   ],
   "source": [
    "import datetime\n",
    "dates = [datetime.datetime(year=int(row[1]), month=int(row[2]), day=1) for row in data]\n",
    "#dates[:5]\n",
    "date_counts = {}\n",
    "for date in dates:\n",
    "    if date in date_counts:\n",
    "        date_counts[date] += 1\n",
    "    else:\n",
    "        date_counts[date] = 1\n",
    "date_counts"
   ]
  },
  {
   "cell_type": "code",
   "execution_count": 8,
   "metadata": {
    "collapsed": true
   },
   "outputs": [
    {
     "name": "stdout",
     "output_type": "stream",
     "text": [
      "{'M': 86349, 'F': 14449}\n",
      "{'Asian/Pacific Islander': 1326, 'White': 66237, 'Native American/Native Alaskan': 917, 'Black': 23296, 'Hispanic': 9022}\n"
     ]
    }
   ],
   "source": [
    "sexes = [row[5] for row in data]\n",
    "sex_counts = {}\n",
    "for sex in sexes:\n",
    "    if sex in sex_counts:\n",
    "        sex_counts[sex] += 1\n",
    "    else:\n",
    "        sex_counts[sex] = 1\n",
    "races = [row[7] for row in data]\n",
    "race_counts = {}\n",
    "for race in races:\n",
    "    if race in race_counts:\n",
    "        race_counts[race] += 1\n",
    "    else:\n",
    "        race_counts[race] = 1\n",
    "print(sex_counts)\n",
    "print(race_counts)"
   ]
  },
  {
   "cell_type": "markdown",
   "metadata": {},
   "source": [
    "**There is a sex in sex column**.\n",
    "**THere is a race in race column**. "
   ]
  },
  {
   "cell_type": "code",
   "execution_count": 9,
   "metadata": {
    "collapsed": true
   },
   "outputs": [
    {
     "data": {
      "text/plain": [
       "[['Id',\n",
       "  'Year',\n",
       "  'Id',\n",
       "  'Sex',\n",
       "  'Id',\n",
       "  'Hispanic Origin',\n",
       "  'Id',\n",
       "  'Id2',\n",
       "  'Geography',\n",
       "  'Total',\n",
       "  'Race Alone - White',\n",
       "  'Race Alone - Hispanic',\n",
       "  'Race Alone - Black or African American',\n",
       "  'Race Alone - American Indian and Alaska Native',\n",
       "  'Race Alone - Asian',\n",
       "  'Race Alone - Native Hawaiian and Other Pacific Islander',\n",
       "  'Two or More Races'],\n",
       " ['cen42010',\n",
       "  'April 1, 2010 Census',\n",
       "  'totsex',\n",
       "  'Both Sexes',\n",
       "  'tothisp',\n",
       "  'Total',\n",
       "  '0100000US',\n",
       "  '',\n",
       "  'United States',\n",
       "  '308745538',\n",
       "  '197318956',\n",
       "  '44618105',\n",
       "  '40250635',\n",
       "  '3739506',\n",
       "  '15159516',\n",
       "  '674625',\n",
       "  '6984195']]"
      ]
     },
     "execution_count": 9,
     "metadata": {},
     "output_type": "execute_result"
    }
   ],
   "source": [
    "f = open('census.csv')\n",
    "census = list(csv.reader(f))\n",
    "f.close()\n",
    "census"
   ]
  },
  {
   "cell_type": "code",
   "execution_count": 10,
   "metadata": {
    "collapsed": true
   },
   "outputs": [
    {
     "data": {
      "text/plain": [
       "{'Asian/Pacific Islander': 8.374309664161762,\n",
       " 'White': 33.56849303419181,\n",
       " 'Native American/Native Alaskan': 24.521955573811088,\n",
       " 'Black': 57.8773477735196,\n",
       " 'Hispanic': 20.220491210910907}"
      ]
     },
     "execution_count": 10,
     "metadata": {},
     "output_type": "execute_result"
    }
   ],
   "source": [
    "Asian_popul = float(census[1][census[0].index('Race Alone - Asian')]) + float(census[1][census[0].index('Race Alone - Native Hawaiian and Other Pacific Islander')])\n",
    "Black_popul = float(census[1][census[0].index('Race Alone - Black or African American')])\n",
    "Hispanic_popul = float(census[1][census[0].index('Race Alone - Hispanic')])   \n",
    "Native_popul = float(census[1][census[0].index('Race Alone - American Indian and Alaska Native')])   \n",
    "White_popul =  float(census[1][census[0].index('Race Alone - White')])  \n",
    "#print(Asian_popul, Black_popul, Hispanic_popul, Native_popul, White_popul)          \n",
    "mapping = {'Asian/Pacific Islander':Asian_popul, 'Black':Black_popul, 'Hispanic':Hispanic_popul, 'Native American/Native Alaskan':Native_popul, 'White':White_popul}\n",
    "race_per_hundredk = {}\n",
    "for key in race_counts:\n",
    "    race_per_hundredk[key] = race_counts[key]/mapping[key]*100000\n",
    "\n",
    "race_per_hundredk"
   ]
  },
  {
   "cell_type": "code",
   "execution_count": 11,
   "metadata": {
    "collapsed": true
   },
   "outputs": [
    {
     "data": {
      "text/plain": [
       "{'White': 4.6356417981453335,\n",
       " 'Asian/Pacific Islander': 3.530346230970155,\n",
       " 'Black': 48.471284987180944,\n",
       " 'Native American/Native Alaskan': 8.717729026240365,\n",
       " 'Hispanic': 12.627161104219914}"
      ]
     },
     "execution_count": 11,
     "metadata": {},
     "output_type": "execute_result"
    }
   ],
   "source": [
    "intents = [row[3] for row in data]\n",
    "races = [row[7] for row in data]\n",
    "homicide_race_counts = {}\n",
    "for index, value in enumerate(races):\n",
    "    if intents[index] == 'Homicide':\n",
    "        if value in homicide_race_counts:\n",
    "            homicide_race_counts[value] += 1\n",
    "        else:\n",
    "            homicide_race_counts[value] = 1\n",
    "homicide_race_per_hundredk = {}\n",
    "for key in homicide_race_counts:\n",
    "    homicide_race_per_hundredk[key] = (homicide_race_counts[key]/mapping[key])*100000\n",
    "homicide_race_per_hundredk    "
   ]
  },
  {
   "cell_type": "markdown",
   "metadata": {},
   "source": [
    "The analysis shows taht black people's homicide rate is noticably higher "
   ]
  },
  {
   "cell_type": "code",
   "execution_count": 20,
   "metadata": {
    "collapsed": true
   },
   "outputs": [
    {
     "data": {
      "text/plain": [
       "{'03': 7.903115760745963,\n",
       " '04': 8.08790084148283,\n",
       " '06': 8.898112349329088,\n",
       " '07': 9.293268137366386,\n",
       " '08': 8.88389811234933,\n",
       " '09': 8.431885376392994,\n",
       " '10': 8.437571071184898,\n",
       " '12': 9.071526040482148,\n",
       " '01': 8.042415283147601,\n",
       " '02': 6.191721628382989,\n",
       " '05': 8.460313850352513,\n",
       " '11': 8.298271548783262}"
      ]
     },
     "execution_count": 20,
     "metadata": {},
     "output_type": "execute_result"
    }
   ],
   "source": [
    "months = [row[2] for row in data]\n",
    "intents = [row[3] for row in data]\n",
    "#months[:10]\n",
    "#races[:10]\n",
    "month_homicide_counts = {}\n",
    "for index, value in enumerate(months):\n",
    "    if intents[index] == 'Homicide':\n",
    "        if value in month_homicide_counts:\n",
    "            month_homicide_counts[value] += 1\n",
    "        else:\n",
    "            month_homicide_counts[value] = 1\n",
    "#month_homicide_counts  \n",
    "total_homicide = sum(list(month_homicide_counts.values()))\n",
    "#total_homicide\n",
    "month_homicide_per_hundred = {}\n",
    "for key in month_homicide_counts:\n",
    "    month_homicide_per_hundred[key] = month_homicide_counts[key]/total_homicide*100\n",
    "month_homicide_per_hundred    "
   ]
  },
  {
   "cell_type": "code",
   "execution_count": 23,
   "metadata": {
    "collapsed": true
   },
   "outputs": [
    {
     "data": {
      "text/plain": [
       "{'M': 84.72538094155105, 'F': 15.274619058448943}"
      ]
     },
     "execution_count": 23,
     "metadata": {},
     "output_type": "execute_result"
    }
   ],
   "source": [
    "intents = [row[3] for row in data]\n",
    "genders = [row[5] for row in data]\n",
    "#genders\n",
    "gender_homicide_counts = {}\n",
    "for index, value in enumerate(genders):\n",
    "    if intents[index] == 'Homicide':\n",
    "        if value in gender_homicide_counts:\n",
    "            gender_homicide_counts[value] += 1\n",
    "        else:\n",
    "            gender_homicide_counts[value] = 1\n",
    "#gender_homicide_counts\n",
    "total_homicide = sum(list(gender_homicide_counts.values()))\n",
    "gender_homicde_per_hundred = {}\n",
    "for key in gender_homicide_counts:\n",
    "    gender_homicde_per_hundred[key] = gender_homicide_counts[key]/total_homicide*100\n",
    "gender_homicde_per_hundred"
   ]
  },
  {
   "cell_type": "code",
   "execution_count": 25,
   "metadata": {},
   "outputs": [
    {
     "data": {
      "text/plain": [
       "{'Home': 0.6000714299886902,\n",
       " 'Street': 0.11062719498402745,\n",
       " 'Other specified': 0.13642135756661838,\n",
       " 'NA': 0.0137304311593484,\n",
       " 'Other unspecified': 0.08796801523839759,\n",
       " 'Trade/service area': 0.03411774043135776,\n",
       " 'Farm': 0.004662790928391437,\n",
       " 'Industrial/construction': 0.0024603662771086727,\n",
       " 'School/instiution': 0.006656878112660965,\n",
       " 'Sports': 0.0012698664656044763,\n",
       " 'Residential institution': 0.002013928847794599}"
      ]
     },
     "execution_count": 25,
     "metadata": {},
     "output_type": "execute_result"
    }
   ],
   "source": [
    "places = [row[9] for row in data]\n",
    "place_death_counts = {}\n",
    "for place in places:\n",
    "    if place in place_death_counts:\n",
    "        place_death_counts[place] += 1\n",
    "    else:\n",
    "        place_death_counts[place] = 1\n",
    "place_death_total = sum(list(place_death_counts.values()))\n",
    "place_death_rates = {}\n",
    "for key in place_death_counts:\n",
    "    place_death_rates[key] = place_death_counts[key]/place_death_total\n",
    "place_death_rates"
   ]
  },
  {
   "cell_type": "markdown",
   "metadata": {},
   "source": [
    "-This shows that home is the most likely place that gun death could happen."
   ]
  },
  {
   "cell_type": "code",
   "execution_count": 28,
   "metadata": {},
   "outputs": [
    {
     "data": {
      "text/plain": [
       "{'4': 0.12843508799777772,\n",
       " '3': 0.21508363261175817,\n",
       " '2': 0.4258715450703387,\n",
       " '1': 0.21650231155380067,\n",
       " '5': 0.013581618682910376,\n",
       " 'NA': 0.0005258040834143535}"
      ]
     },
     "execution_count": 28,
     "metadata": {},
     "output_type": "execute_result"
    }
   ],
   "source": [
    "educations = [row[10] for row in data]\n",
    "education_death_counts = {}\n",
    "for education in educations:\n",
    "    if education in education_death_counts:\n",
    "        education_death_counts[education] += 1\n",
    "    else:\n",
    "        education_death_counts[education] = 1\n",
    "#education_death_counts\n",
    "education_death_total = sum(list(education_death_counts.values()))\n",
    "education_death_rates = {}\n",
    "for key in education_death_counts:\n",
    "    education_death_rates[key] = education_death_counts[key]/education_death_total\n",
    "education_death_rates"
   ]
  },
  {
   "cell_type": "markdown",
   "metadata": {},
   "source": [
    "-This shows that the education level of 2 has the highest gun death rate."
   ]
  },
  {
   "cell_type": "code",
   "execution_count": null,
   "metadata": {},
   "outputs": [],
   "source": []
  }
 ],
 "metadata": {
  "kernelspec": {
   "display_name": "Python 3",
   "language": "python",
   "name": "python3"
  },
  "language_info": {
   "codemirror_mode": {
    "name": "ipython",
    "version": 3
   },
   "file_extension": ".py",
   "mimetype": "text/x-python",
   "name": "python",
   "nbconvert_exporter": "python",
   "pygments_lexer": "ipython3",
   "version": "3.6.5"
  }
 },
 "nbformat": 4,
 "nbformat_minor": 1
}
